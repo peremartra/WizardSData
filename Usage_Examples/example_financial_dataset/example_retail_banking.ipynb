{
 "cells": [
  {
   "cell_type": "markdown",
   "id": "6929b23b-c300-469e-9991-6a10a75832b8",
   "metadata": {},
   "source": [
    "# Creating a Dataset for Retail Banking Conversations.\n",
    "This notebook contains an example of how to use an existing profile file and prompt templates to generate a dataset of financial conversations using the WizardSData library."
   ]
  },
  {
   "cell_type": "markdown",
   "id": "3ab00f16-15c4-4585-80ca-b0178a5f4765",
   "metadata": {},
   "source": [
    "# Install and import Libraries. "
   ]
  },
  {
   "cell_type": "code",
   "execution_count": 1,
   "id": "c4f97854-2509-48ab-b274-062c2fedf4d8",
   "metadata": {},
   "outputs": [
    {
     "name": "stdout",
     "output_type": "stream",
     "text": [
      "Note: you may need to restart the kernel to use updated packages.\n",
      "Note: you may need to restart the kernel to use updated packages.\n",
      "Note: you may need to restart the kernel to use updated packages.\n"
     ]
    }
   ],
   "source": [
    "#Install library\n",
    "%pip install -q wizardsdata\n",
    "%pip install -q pandas\n",
    "%pip install -q dotenv"
   ]
  },
  {
   "cell_type": "code",
   "execution_count": 2,
   "id": "b217abde",
   "metadata": {},
   "outputs": [
    {
     "name": "stdout",
     "output_type": "stream",
     "text": [
      "Name: wizardsdata\n",
      "Version: 0.1.1\n",
      "Summary: library for generating conversation datasets using language models\n",
      "Home-page: https://github.com/peremartra/WizardSData\n",
      "Author: Pere Martra\n",
      "Author-email: peremartra@uadla.com\n",
      "License: \n",
      "Location: /Users/pere/Documents/GitHub/WizardSData/.venv/lib/python3.12/site-packages\n",
      "Requires: jinja2, openai\n",
      "Required-by: \n",
      "Note: you may need to restart the kernel to use updated packages.\n"
     ]
    }
   ],
   "source": [
    "%pip show wizardsdata"
   ]
  },
  {
   "cell_type": "code",
   "execution_count": 4,
   "id": "9ed7def8-631c-44ad-94c2-85660736e6ec",
   "metadata": {},
   "outputs": [],
   "source": [
    "#Import class and json\n",
    "import wizardsdata as wsd\n",
    "import json"
   ]
  },
  {
   "cell_type": "markdown",
   "id": "3b4119a9-faf9-41ce-8b41-ffe1d697559e",
   "metadata": {},
   "source": [
    "## Loading and studying profiles & Prompt templates. "
   ]
  },
  {
   "cell_type": "code",
   "execution_count": 5,
   "id": "4608066d-136f-4461-bd5f-a6476cbe3ba2",
   "metadata": {},
   "outputs": [],
   "source": [
    "#This file contains 5 different profiles. \n",
    "file_profiles = \"../../templates/financial01/profiles/financial_sample01_1.json\""
   ]
  },
  {
   "cell_type": "code",
   "execution_count": 6,
   "id": "de417d40",
   "metadata": {},
   "outputs": [
    {
     "name": "stdout",
     "output_type": "stream",
     "text": [
      "wizardsdata             0.1.1\n"
     ]
    }
   ],
   "source": [
    "!pip list | grep wizard"
   ]
  },
  {
   "cell_type": "code",
   "execution_count": 7,
   "id": "7d9c3286-ce07-40bb-a1bf-cd283e7e43bb",
   "metadata": {},
   "outputs": [],
   "source": [
    "with open(file_profiles, 'r') as file:\n",
    "    data = json.load(file)"
   ]
  },
  {
   "cell_type": "code",
   "execution_count": 8,
   "id": "64a9d905",
   "metadata": {},
   "outputs": [
    {
     "name": "stdout",
     "output_type": "stream",
     "text": [
      "/Users/pere/Documents/GitHub/WizardSData/.venv/bin/python\n"
     ]
    }
   ],
   "source": [
    "import sys\n",
    "print(sys.executable)"
   ]
  },
  {
   "cell_type": "code",
   "execution_count": 9,
   "id": "0ae49eac-d484-4779-a885-df5bee082499",
   "metadata": {},
   "outputs": [
    {
     "data": {
      "text/plain": [
       "{'profiles': [{'id': 1,\n",
       "   'age': 30,\n",
       "   'marital_status': 'Single',\n",
       "   'country': 'Spain',\n",
       "   'residence_area': 'Urban',\n",
       "   'profession': 'Software Developer',\n",
       "   'employment_status': 'Freelance',\n",
       "   'financial_products': ['Savings account', 'Tech stocks'],\n",
       "   'financial_goal': 'Save for house deposit',\n",
       "   'investment_horizon': 'Medium-term',\n",
       "   'risk_tolerance': 'High',\n",
       "   'financial_knowledge': 'Low'}]}"
      ]
     },
     "execution_count": 9,
     "metadata": {},
     "output_type": "execute_result"
    }
   ],
   "source": [
    "data"
   ]
  },
  {
   "cell_type": "markdown",
   "id": "afe4c1d0-25b3-4925-8760-d3cbd9951c4d",
   "metadata": {},
   "source": [
    "At the top, you can see the five profiles included in the file. These profiles have been specifically created for this example. The only mandatory field is id; the rest of the fields have been designed explicitly for this use case.\n",
    "\n",
    "The fields are used to populate the prompt templates, which must also be created before calling the library. These templates provide the necessary instructions to the language models.\n",
    "\n",
    "The prompt files are in j2 format, as Jinja2 is used to populate them with the profile content.\n",
    "\n",
    "In this example, the first profile represents the client. The client is given an identity based on the demographic characteristics defined in the profile, along with their interest in the conversation.\n",
    "\n",
    "The second profile represents the advisor. The advisor does not receive direct access to the client’s data—only the information they could infer by seeing them in person. This ensures they need to ask for additional details, leading to more realistic conversations.\n",
    "\n",
    "In this case, both profiles have been instructed to use the [END] tag to signal the end of the conversation. This is a design decision, but it is also possible to assign the responsibility of closing the conversation to only one of the roles. In fact, this use case has been tested by allowing only the client to end the conversation, and the generated dialogues have been equally effective."
   ]
  },
  {
   "cell_type": "markdown",
   "id": "6fac6fd5-55aa-41f4-91af-fca95320b11f",
   "metadata": {},
   "source": [
    "**Prompt Client**\n",
    "```txt\n",
    "You are a {{ profile.age }}-year-old {{ profile.marital_status | lower }} client living in a {{ profile.residence_area | lower }} area of {{ profile.country }}. \n",
    "You work as a {{ profile.profession | lower }} and have {{ profile.financial_knowledge | lower }} financial knowledge. \n",
    "You currently have {{ profile.financial_products | join(' and ') }}. \n",
    "Your main financial goal is to {{ profile.financial_goal | lower }} in the {{ profile.investment_horizon | lower }}. \n",
    "You have a {{ profile.risk_tolerance | lower }} risk tolerance and are looking for advice on how to improve your saving and investment strategy.\n",
    "\n",
    "You are having a conversation with a financial advisor.\n",
    "- Your first message should be a BRIEF, CASUAL greeting. Don't reveal all your financial details at once.\n",
    "- For example, just say hi and mention ONE thing like wanting advice about saving or investments.\n",
    "- Keep your first message under 15-30 words. Let the conversation develop naturally.\n",
    "- In later messages, respond naturally to the advisor's questions, revealing information gradually.\n",
    "- Provide ONLY your next message as the client. Do not simulate the advisor's responses.\n",
    "- Start with a natural greeting if this is your first message.\n",
    "- Ask relevant questions or express concerns to achieve your goal.\n",
    "- Respond naturally and concisely to the advisor's previous message.\n",
    "- Try to conclude the conversation in fewer than {{ max_questions }} exchanges.\n",
    "- If you feel your questions are resolved, end your message with '[END]'.\n",
    "```\n",
    "**Financial Advisor Prompt.**\n",
    "```txt\n",
    "You are an expert financial advisor specializing in {{ profile.financial_goal | lower }}.\n",
    "\n",
    "Client Context:\n",
    "- The client is approximately {{ profile.age }} years old, and appears to be from {{ profile.country }}.\n",
    "\n",
    "Instructions for the conversation:\n",
    "- Start by greeting the client and asking relevant, natural questions to understand their financial situation, preferences, and concerns.\n",
    "- Guide the conversation by asking about their current financial products, investment experience, and risk tolerance.\n",
    "- Provide clear, concise, and professional advice tailored to the client's goal and profile as the information is revealed.\n",
    "- Avoid using complex financial jargon unless necessary, and adapt your language to the client's knowledge level (you'll assess this through conversation).\n",
    "- Focus on actionable recommendations to help the client achieve their goal.\n",
    "- Keep the conversation realistic and friendly.\n",
    "- End the conversation naturally once you believe the client's doubts have been resolved, or explicitly conclude by saying '[END]'\n",
    "```\n"
   ]
  },
  {
   "cell_type": "markdown",
   "id": "40c46223-d430-4b30-94bc-86fdeb7f6899",
   "metadata": {},
   "source": [
    "Both the profile file and the files containing the prompt templates must be provided in the configuration."
   ]
  },
  {
   "cell_type": "markdown",
   "id": "0dd4783c-a260-4d45-bca3-186d8a1c0a1a",
   "metadata": {},
   "source": [
    "## Configuration. "
   ]
  },
  {
   "cell_type": "code",
   "execution_count": 10,
   "id": "81bbd79c-42d1-4048-ac44-1776e3a650c7",
   "metadata": {},
   "outputs": [],
   "source": [
    "errors = wsd.set_config(\n",
    "        API_KEY=\"YOUR-API-KEY\",  # Replace with your actual API key\n",
    "        template_client_prompt=\"../../templates/financial01/prompts/financial_client_01.j2\",\n",
    "        template_advisor_prompt=\"templates/financial01/prompts/financial_advisor_01.j2\",\n",
    "        file_profiles=\"templates/financial01/profiles/financial_sample01_5.json\",\n",
    "        file_output=\"templates/financial01/outputs/test_dataset01_1.json\",\n",
    "        model_client=\"gpt-4o-mini\",\n",
    "        model_advisor=\"gpt-4o-mini\",\n",
    "        # Optional parameters with custom values\n",
    "        temperature_client=0.8,\n",
    "        temperature_advisor=0.1, \n",
    "        max_recommended_questions=15\n",
    "    )"
   ]
  },
  {
   "cell_type": "code",
   "execution_count": 11,
   "id": "07d24bb2-9065-45e9-ac90-b791cb41733e",
   "metadata": {},
   "outputs": [
    {
     "data": {
      "text/plain": [
       "['template_advisor_prompt (file not found: templates/financial01/prompts/financial_advisor_01.j2)',\n",
       " 'file_profiles (file not found: templates/financial01/profiles/financial_sample01_5.json)']"
      ]
     },
     "execution_count": 11,
     "metadata": {},
     "output_type": "execute_result"
    }
   ],
   "source": [
    "errors"
   ]
  },
  {
   "cell_type": "markdown",
   "id": "3ff1ab50-1066-4728-a2cb-7d8345ba8eb3",
   "metadata": {},
   "source": [
    "The configuration returns a list of errors indicating any issues that need to be corrected in the parameters. If the list is empty, the configuration is valid, and the generation process can begin."
   ]
  },
  {
   "cell_type": "code",
   "execution_count": 12,
   "id": "2121e0ec",
   "metadata": {},
   "outputs": [
    {
     "name": "stdout",
     "output_type": "stream",
     "text": [
      "None\n"
     ]
    }
   ],
   "source": [
    "api_key=None\n",
    "print(api_key)"
   ]
  },
  {
   "cell_type": "code",
   "execution_count": 13,
   "id": "31a04795",
   "metadata": {},
   "outputs": [],
   "source": [
    "from dotenv import load_dotenv\n",
    "import os\n",
    "load_dotenv(dotenv_path='../../config.env')\n",
    "api_key = os.environ.get(\"OPENAI_API_KEY\")"
   ]
  },
  {
   "cell_type": "code",
   "execution_count": 20,
   "id": "6748bfc6-aaaf-4212-83e9-18894683eeb3",
   "metadata": {},
   "outputs": [],
   "source": [
    "errors = wsd.set_config(\n",
    "        API_KEY=api_key,  # Replace with your actual API key\n",
    "        template_client_prompt=\"../../templates/financial01/prompts/financial_client_01.j2\",\n",
    "        template_advisor_prompt=\"../../templates/financial01/prompts/financial_advisor_01.j2\",\n",
    "        file_profiles=\"../../templates/financial01/profiles/financial_sample01_1.json\",\n",
    "        file_output=\"./test_financial_dataset01_5.json\",\n",
    "        model_client=\"gpt-4o-mini\",\n",
    "        model_advisor=\"gpt-4o-mini\",\n",
    "        # Optional parameters with custom values\n",
    "        temperature_client=0.8,\n",
    "        temperature_advisor=0.1, \n",
    "        max_recommended_questions=15\n",
    "    )"
   ]
  },
  {
   "cell_type": "code",
   "execution_count": 21,
   "id": "9f070672-74d6-44f1-9f4f-d57490fa91f4",
   "metadata": {},
   "outputs": [
    {
     "data": {
      "text/plain": [
       "[]"
      ]
     },
     "execution_count": 21,
     "metadata": {},
     "output_type": "execute_result"
    }
   ],
   "source": [
    "errors"
   ]
  },
  {
   "cell_type": "markdown",
   "id": "d86f041e-3fa4-4e7b-99ed-72d4af3fd3c1",
   "metadata": {},
   "source": [
    "In this case, the list is empty, indicating that the configuration is valid."
   ]
  },
  {
   "cell_type": "markdown",
   "id": "c6e1f1a6-34da-44bb-aebd-165caade98a4",
   "metadata": {},
   "source": [
    "## Generation"
   ]
  },
  {
   "cell_type": "code",
   "execution_count": 22,
   "id": "7f63ea20-fd0d-44cd-a599-0a4574052e8d",
   "metadata": {},
   "outputs": [
    {
     "name": "stdout",
     "output_type": "stream",
     "text": [
      "client: Hi there! I'm looking for some advice on saving for a house deposit.\n",
      "advisor: Hello! It's great to hear that you're planning to save for a house deposit. That's an exciting goal! To get started, could you share a bit about your current financial situation? For example, do you have any savings set aside already, and what is your target amount for the deposit?\n",
      "client: I have a savings account and some tech stocks, but I'm not exactly sure how much I need for a deposit. Any tips on figuring that out?\n",
      "advisor: Absolutely! The amount you'll need for a house deposit can vary based on several factors, including the property price in your desired area and the percentage of the purchase price that lenders typically require as a deposit. \n",
      "\n",
      "In Spain, it's common to aim for a deposit of around 20% of the property's value, but some lenders may accept less. To get a clearer picture, it would be helpful to know:\n",
      "\n",
      "1. What area are you looking to buy in?\n",
      "2. Do you have a rough idea of the property prices there?\n",
      "\n",
      "Once we have that information, we can calculate a target amount for your deposit. Additionally, how much do you currently have saved in your savings account and your investments?\n",
      "client: I'm looking to buy in a city like Barcelona, where property prices can be quite high. I've got about €10,000 in my savings account and some tech stocks, but I'm not sure how much those are worth right now.\n",
      "advisor: Barcelona is indeed a vibrant city, but property prices can be steep. As of recent trends, the average price per square meter in Barcelona can range from €3,000 to €5,000 or more, depending on the neighborhood. \n",
      "\n",
      "Let’s say you’re aiming for a modest apartment priced around €250,000. A 20% deposit would be €50,000. Given that you currently have €10,000 in savings, you would need to save an additional €40,000.\n",
      "\n",
      "Now, regarding your tech stocks, it would be beneficial to check their current value. If they have appreciated, they could contribute significantly to your deposit. \n",
      "\n",
      "To help you reach your goal, here are some actionable steps:\n",
      "\n",
      "1. **Budgeting**: Create a monthly budget to see how much you can save each month. Consider setting a specific savings goal each month.\n",
      "   \n",
      "2. **Savings Account**: Look for high-interest savings accounts or fixed-term deposits that can offer better interest rates than your current account.\n",
      "\n",
      "3. **Investment Strategy**: If you're comfortable with some risk, consider keeping your tech stocks but also think about diversifying into other investments that may offer growth potential.\n",
      "\n",
      "4. **Additional Income**: Explore ways to increase your income, such as side jobs or freelance work, which can boost your savings rate.\n",
      "\n",
      "How do these suggestions sound to you? Do you have any concerns or preferences regarding saving or investing?\n",
      "client: That makes sense! I like the idea of budgeting and maybe finding a better savings account. Diversifying my investments sounds good too, but I'm not sure where to start. Do you have any recommendations for types of investments that fit my high risk tolerance?\n",
      "advisor: It's great to hear that you're open to budgeting and exploring better savings options! Since you have a high risk tolerance, there are several investment avenues you might consider:\n",
      "\n",
      "1. **Stock Market**: Since you already have tech stocks, you might want to look into other sectors or even international stocks. Consider investing in exchange-traded funds (ETFs) that track specific sectors or indices, which can provide diversification while still being exposed to the stock market's growth potential.\n",
      "\n",
      "2. **Real Estate Investment Trusts (REITs)**: If you're interested in real estate but not ready to buy property yet, REITs can be a good option. They allow you to invest in real estate without having to purchase physical property, and they often pay dividends.\n",
      "\n",
      "3. **Cryptocurrencies**: If you're comfortable with high volatility, cryptocurrencies can offer significant growth potential. However, be cautious and only invest what you can afford to lose, as the market can be unpredictable.\n",
      "\n",
      "4. **Peer-to-Peer Lending**: This involves lending money to individuals or businesses through online platforms, potentially earning higher interest rates than traditional savings accounts. However, it does come with risks, as borrowers may default.\n",
      "\n",
      "5. **Robo-Advisors**: If you're unsure about picking individual stocks or funds, consider using a robo-advisor. They create a diversified portfolio based on your risk tolerance and investment goals, often at a lower cost than traditional financial advisors.\n",
      "\n",
      "Before diving into any of these options, it’s wise to do some research or even consult with a financial advisor who can help tailor an investment strategy to your specific needs and goals\n",
      "client: Those options sound interesting! I like the idea of ETFs for diversification and maybe looking into REITs. I’ll definitely be cautious with cryptocurrencies. Do you think I should focus more on these investments now, or should I prioritize saving in my account first?\n",
      "advisor: It's great to hear that you're interested in ETFs and REITs! Both can be excellent choices for diversification. \n",
      "\n",
      "When it comes to prioritizing your financial strategy, I recommend a balanced approach:\n",
      "\n",
      "1. **Emergency Fund**: First, ensure you have a solid emergency fund in your savings account. This should ideally cover 3-6 months of living expenses. It provides a safety net in case of unexpected expenses or income loss.\n",
      "\n",
      "2. **Saving for Your Deposit**: Since your primary goal is saving for a house deposit, continue to prioritize building your savings account until you reach your target amount. This will help you avoid having to rely on high-interest loans or mortgages.\n",
      "\n",
      "3. **Investing**: Once you have a comfortable emergency fund and are consistently saving for your deposit, you can start allocating a portion of your savings to investments like ETFs and REITs. This way, you can potentially grow your wealth while still working towards your home purchase.\n",
      "\n",
      "4. **Regular Contributions**: Consider setting up automatic transfers to both your savings account and investment accounts. This can help you stay disciplined in saving while also investing regularly.\n",
      "\n",
      "By focusing on both saving and investing, you can work towards your house deposit while also building a diversified portfolio for the future. How does that sound to you? Do you have any other questions or concerns?\n",
      "client: That sounds like a solid plan! I like the idea of having an emergency fund and saving consistently for the deposit while also starting to invest. I don’t have any other questions right now, but I’ll definitely think about these steps. Thanks for the advice! [END]\n",
      "Generated conversation for profile 1 with 6 turns.\n",
      "Successfully saved 6 conversation turns to ./test_financial_dataset01_5.json\n"
     ]
    },
    {
     "data": {
      "text/plain": [
       "True"
      ]
     },
     "execution_count": 22,
     "metadata": {},
     "output_type": "execute_result"
    }
   ],
   "source": [
    "wsd.start_generation()"
   ]
  },
  {
   "cell_type": "code",
   "execution_count": 25,
   "id": "3085f410-9148-4618-870c-5a75ac31f80c",
   "metadata": {},
   "outputs": [],
   "source": [
    "import pandas as pd\n",
    "\n",
    "# Load the JSON file\n",
    "file_path = 'test_financial_dataset01_5.json'\n",
    "data = pd.read_json(file_path)"
   ]
  },
  {
   "cell_type": "code",
   "execution_count": 26,
   "id": "a08873ef-343c-4124-a5f7-5a8f2820e5ce",
   "metadata": {},
   "outputs": [
    {
     "data": {
      "text/html": [
       "<div>\n",
       "<style scoped>\n",
       "    .dataframe tbody tr th:only-of-type {\n",
       "        vertical-align: middle;\n",
       "    }\n",
       "\n",
       "    .dataframe tbody tr th {\n",
       "        vertical-align: top;\n",
       "    }\n",
       "\n",
       "    .dataframe thead th {\n",
       "        text-align: right;\n",
       "    }\n",
       "</style>\n",
       "<table border=\"1\" class=\"dataframe\">\n",
       "  <thead>\n",
       "    <tr style=\"text-align: right;\">\n",
       "      <th></th>\n",
       "      <th>id_conversation</th>\n",
       "      <th>topic</th>\n",
       "      <th>sequence</th>\n",
       "      <th>rol1</th>\n",
       "      <th>rol2</th>\n",
       "    </tr>\n",
       "  </thead>\n",
       "  <tbody>\n",
       "    <tr>\n",
       "      <th>0</th>\n",
       "      <td>886a055f-fcc2-4d53-8c7c-08be3ae899ab</td>\n",
       "      <td>Save for house deposit</td>\n",
       "      <td>0</td>\n",
       "      <td>Hi there! I'm looking for some advice on savin...</td>\n",
       "      <td>Hello! It's great to hear that you're planning...</td>\n",
       "    </tr>\n",
       "    <tr>\n",
       "      <th>1</th>\n",
       "      <td>886a055f-fcc2-4d53-8c7c-08be3ae899ab</td>\n",
       "      <td>Save for house deposit</td>\n",
       "      <td>2</td>\n",
       "      <td>I have a savings account and some tech stocks,...</td>\n",
       "      <td>Absolutely! The amount you'll need for a house...</td>\n",
       "    </tr>\n",
       "    <tr>\n",
       "      <th>2</th>\n",
       "      <td>886a055f-fcc2-4d53-8c7c-08be3ae899ab</td>\n",
       "      <td>Save for house deposit</td>\n",
       "      <td>4</td>\n",
       "      <td>I'm looking to buy in a city like Barcelona, w...</td>\n",
       "      <td>Barcelona is indeed a vibrant city, but proper...</td>\n",
       "    </tr>\n",
       "    <tr>\n",
       "      <th>3</th>\n",
       "      <td>886a055f-fcc2-4d53-8c7c-08be3ae899ab</td>\n",
       "      <td>Save for house deposit</td>\n",
       "      <td>6</td>\n",
       "      <td>That makes sense! I like the idea of budgeting...</td>\n",
       "      <td>It's great to hear that you're open to budgeti...</td>\n",
       "    </tr>\n",
       "    <tr>\n",
       "      <th>4</th>\n",
       "      <td>886a055f-fcc2-4d53-8c7c-08be3ae899ab</td>\n",
       "      <td>Save for house deposit</td>\n",
       "      <td>8</td>\n",
       "      <td>Those options sound interesting! I like the id...</td>\n",
       "      <td>It's great to hear that you're interested in E...</td>\n",
       "    </tr>\n",
       "    <tr>\n",
       "      <th>5</th>\n",
       "      <td>886a055f-fcc2-4d53-8c7c-08be3ae899ab</td>\n",
       "      <td>Save for house deposit</td>\n",
       "      <td>10</td>\n",
       "      <td>That sounds like a solid plan! I like the idea...</td>\n",
       "      <td></td>\n",
       "    </tr>\n",
       "  </tbody>\n",
       "</table>\n",
       "</div>"
      ],
      "text/plain": [
       "                        id_conversation                   topic  sequence  \\\n",
       "0  886a055f-fcc2-4d53-8c7c-08be3ae899ab  Save for house deposit         0   \n",
       "1  886a055f-fcc2-4d53-8c7c-08be3ae899ab  Save for house deposit         2   \n",
       "2  886a055f-fcc2-4d53-8c7c-08be3ae899ab  Save for house deposit         4   \n",
       "3  886a055f-fcc2-4d53-8c7c-08be3ae899ab  Save for house deposit         6   \n",
       "4  886a055f-fcc2-4d53-8c7c-08be3ae899ab  Save for house deposit         8   \n",
       "5  886a055f-fcc2-4d53-8c7c-08be3ae899ab  Save for house deposit        10   \n",
       "\n",
       "                                                rol1  \\\n",
       "0  Hi there! I'm looking for some advice on savin...   \n",
       "1  I have a savings account and some tech stocks,...   \n",
       "2  I'm looking to buy in a city like Barcelona, w...   \n",
       "3  That makes sense! I like the idea of budgeting...   \n",
       "4  Those options sound interesting! I like the id...   \n",
       "5  That sounds like a solid plan! I like the idea...   \n",
       "\n",
       "                                                rol2  \n",
       "0  Hello! It's great to hear that you're planning...  \n",
       "1  Absolutely! The amount you'll need for a house...  \n",
       "2  Barcelona is indeed a vibrant city, but proper...  \n",
       "3  It's great to hear that you're open to budgeti...  \n",
       "4  It's great to hear that you're interested in E...  \n",
       "5                                                     "
      ]
     },
     "execution_count": 26,
     "metadata": {},
     "output_type": "execute_result"
    }
   ],
   "source": [
    "data[0:20]"
   ]
  },
  {
   "cell_type": "code",
   "execution_count": null,
   "id": "648e05b7-4311-478c-abff-ad25ea9fa786",
   "metadata": {},
   "outputs": [
    {
     "data": {
      "text/plain": [
       "38"
      ]
     },
     "execution_count": 19,
     "metadata": {},
     "output_type": "execute_result"
    }
   ],
   "source": [
    "data.shape[0]"
   ]
  },
  {
   "cell_type": "markdown",
   "id": "2a508151-69fb-4c5b-bc8e-9daa0d912dbf",
   "metadata": {},
   "source": [
    "The dataset contains five conversations, one per profile.\n",
    "\n",
    "To facilitate its use for training or fine-tuning tasks, a separate column has been created for each role participating in the conversation. Each row contains a complete interaction, consisting of a question/response pair between the two roles.\n",
    "\n",
    "The sequence field indicates the position of the interaction within the conversation, which is identified by the `id_conversation` field."
   ]
  }
 ],
 "metadata": {
  "kernelspec": {
   "display_name": ".venv",
   "language": "python",
   "name": "python3"
  },
  "language_info": {
   "codemirror_mode": {
    "name": "ipython",
    "version": 3
   },
   "file_extension": ".py",
   "mimetype": "text/x-python",
   "name": "python",
   "nbconvert_exporter": "python",
   "pygments_lexer": "ipython3",
   "version": "3.12.9"
  }
 },
 "nbformat": 4,
 "nbformat_minor": 5
}
