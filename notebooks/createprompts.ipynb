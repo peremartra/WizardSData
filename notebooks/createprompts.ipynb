{
 "cells": [
  {
   "cell_type": "code",
   "execution_count": null,
   "metadata": {},
   "outputs": [],
   "source": []
  },
  {
   "cell_type": "code",
   "execution_count": 19,
   "metadata": {},
   "outputs": [],
   "source": [
    "import json\n",
    "import uuid\n",
    "import openai\n",
    "from jinja2 import Environment, FileSystemLoader\n"
   ]
  },
  {
   "cell_type": "code",
   "execution_count": null,
   "metadata": {},
   "outputs": [],
   "source": [
    "API_KEY = \"YOUR_API_KEY\"\n",
    "template_client_prompt=\"../templates/financial01/prompts/financial_client_01.j2\"\n",
    "template_advisor_prompt=\"../templates/financial01/prompts/financial_advisor_01.j2\"\n",
    "file_profiles = \"../templates/financial01/profiles/financial_sample01_1.json\"\n",
    "file_output = \"../templates/financial01/outputs/financial_dataset01_1.json\"\n",
    "\n",
    "temperature_client=0.7 \n",
    "top_p_client=0.95 \n",
    "frequency_penalty_client=0.3\n",
    "max_tokens_client=175\n",
    "model_client=\"gpt-4o-mini\"\n",
    "max_questions = 10\n",
    "\n",
    "temperature_advisor=0.5 \n",
    "top_p_advisor=0.9 \n",
    "frequency_penalty_advisor=0.1\n",
    "max_tokens_advisor=325\n",
    "model_advisor=\"gpt-4o-mini\""
   ]
  },
  {
   "cell_type": "code",
   "execution_count": 21,
   "metadata": {},
   "outputs": [],
   "source": [
    "with open(file_profiles, 'r') as file:\n",
    "    data = json.load(file)"
   ]
  },
  {
   "cell_type": "code",
   "execution_count": 22,
   "metadata": {},
   "outputs": [
    {
     "data": {
      "text/plain": [
       "{'profiles': [{'id': 1,\n",
       "   'age': 30,\n",
       "   'marital_status': 'Single',\n",
       "   'country': 'Spain',\n",
       "   'residence_area': 'Urban',\n",
       "   'profession': 'Software Developer',\n",
       "   'employment_status': 'Freelance',\n",
       "   'financial_products': ['Savings account', 'Tech stocks'],\n",
       "   'financial_goal': 'Save for house deposit',\n",
       "   'investment_horizon': 'Medium-term',\n",
       "   'risk_tolerance': 'High',\n",
       "   'financial_knowledge': 'Low'}]}"
      ]
     },
     "execution_count": 22,
     "metadata": {},
     "output_type": "execute_result"
    }
   ],
   "source": [
    "data"
   ]
  },
  {
   "cell_type": "code",
   "execution_count": 23,
   "metadata": {},
   "outputs": [
    {
     "name": "stdout",
     "output_type": "stream",
     "text": [
      "Templates created successfully!\n"
     ]
    }
   ],
   "source": [
    "# Create template files with content\n",
    "with open(template_client_prompt, 'w', encoding='utf-8') as f:\n",
    "    f.write(\"\"\"\n",
    "You are a {{ profile.age }}-year-old {{ profile.marital_status | lower }} client living in a {{ profile.residence_area | lower }} area of {{ profile.country }}. \n",
    "You work as a {{ profile.profession | lower }} and have {{ profile.financial_knowledge | lower }} financial knowledge. \n",
    "You currently have {{ profile.financial_products | join(' and ') }}. \n",
    "Your main financial goal is to {{ profile.financial_goal | lower }} in the {{ profile.investment_horizon | lower }}. \n",
    "You have a {{ profile.risk_tolerance | lower }} risk tolerance and are looking for advice on how to improve your saving and investment strategy.\n",
    "\n",
    "You are having a conversation with a financial advisor.\n",
    "- Your first message should be a BRIEF, CASUAL greeting. Don't reveal all your financial details at once.\n",
    "- For example, just say hi and mention ONE thing like wanting advice about saving or investments.\n",
    "- Keep your first message under 15-30 words. Let the conversation develop naturally.\n",
    "- In later messages, respond naturally to the advisor's questions, revealing information gradually.\n",
    "- Provide ONLY your next message as the client. Do not simulate the advisor's responses.\n",
    "- Start with a natural greeting if this is your first message.\n",
    "- Ask relevant questions or express concerns to achieve your goal.\n",
    "- Respond naturally and concisely to the advisor's previous message.\n",
    "- Try to conclude the conversation in fewer than {{ max_questions }} exchanges.\n",
    "- If you feel your questions are resolved, end your message with '[END]'.\n",
    "\"\"\")\n",
    "\n",
    "with open(template_advisor_prompt, 'w', encoding='utf-8') as f:\n",
    "    f.write(\"\"\"\n",
    "You are an expert financial advisor specializing in {{ profile.financial_goal | lower }}.\n",
    "\n",
    "Client Context:\n",
    "- The client is approximately {{ profile.age }} years old, {{ profile.marital_status | lower }}, and appears to be a {{ profile.profession | lower }} from {{ profile.country }}.\n",
    "- The client's financial goal is to {{ profile.financial_goal | lower }}.\n",
    "\n",
    "Instructions for the conversation:\n",
    "- Start by greeting the client and asking relevant, natural questions to understand their financial situation, preferences, and concerns.\n",
    "- Guide the conversation by asking about their current financial products, investment experience, and risk tolerance.\n",
    "- Provide clear, concise, and professional advice tailored to the client's goal and profile as the information is revealed.\n",
    "- Avoid using complex financial jargon unless necessary, and adapt your language to the client's knowledge level (you'll assess this through conversation).\n",
    "- Focus on actionable recommendations to help the client achieve their goal.\n",
    "- Keep the conversation realistic and friendly.\n",
    "- End the conversation naturally once you believe the client's doubts have been resolved, or explicitly conclude by saying '[END]'\n",
    "\"\"\")\n",
    "\n",
    "print(\"Templates created successfully!\")"
   ]
  },
  {
   "cell_type": "code",
   "execution_count": 24,
   "metadata": {},
   "outputs": [],
   "source": [
    "def initialize_apis():\n",
    "    \"\"\"Initialize API keys for OpenAI and Anthropic.\"\"\"\n",
    "    global client_api, advisor_api\n",
    "    client_api = openai.Client(api_key=API_KEY)\n",
    "    advisor_api = openai.Client(api_key=API_KEY)"
   ]
  },
  {
   "cell_type": "code",
   "execution_count": 25,
   "metadata": {},
   "outputs": [],
   "source": [
    "from jinja2 import Environment, FileSystemLoader, PackageLoader, select_autoescape\n",
    "import os\n",
    "\n",
    "def render_prompt_from_path(template_path, profile, **kwargs):\n",
    "    \"\"\"\n",
    "    Render a prompt template from a specific file path with the given profile and additional variables.\n",
    "    \"\"\"\n",
    "    try:\n",
    "        # Get directory and filename from the path\n",
    "        template_dir = os.path.dirname(template_path)\n",
    "        template_file = os.path.basename(template_path)\n",
    "        \n",
    "        # Read template content directly\n",
    "        with open(template_path, 'r', encoding='utf-8') as f:\n",
    "            template_content = f.read()\n",
    "            \n",
    "        if not template_content.strip():\n",
    "            print(f\"Warning: Template file is empty: {template_path}\")\n",
    "            return \"\"\n",
    "            \n",
    "        # Create environment with the string loader\n",
    "        from jinja2 import Environment, FileSystemLoader, Template\n",
    "        \n",
    "        # Create a Template directly from the string\n",
    "        template = Template(template_content)\n",
    "        \n",
    "        # Render the template\n",
    "        result = template.render(profile=profile, **kwargs)\n",
    "        \n",
    "        return result\n",
    "    except Exception as e:\n",
    "        print(f\"Error rendering template: {str(e)}\")\n",
    "        return \"\""
   ]
  },
  {
   "cell_type": "code",
   "execution_count": 26,
   "metadata": {},
   "outputs": [],
   "source": [
    "\n",
    "profiles = data['profiles']\n",
    "prompts = []"
   ]
  },
  {
   "cell_type": "code",
   "execution_count": 27,
   "metadata": {},
   "outputs": [
    {
     "data": {
      "text/plain": [
       "[{'id': 1,\n",
       "  'age': 30,\n",
       "  'marital_status': 'Single',\n",
       "  'country': 'Spain',\n",
       "  'residence_area': 'Urban',\n",
       "  'profession': 'Software Developer',\n",
       "  'employment_status': 'Freelance',\n",
       "  'financial_products': ['Savings account', 'Tech stocks'],\n",
       "  'financial_goal': 'Save for house deposit',\n",
       "  'investment_horizon': 'Medium-term',\n",
       "  'risk_tolerance': 'High',\n",
       "  'financial_knowledge': 'Low'}]"
      ]
     },
     "execution_count": 27,
     "metadata": {},
     "output_type": "execute_result"
    }
   ],
   "source": [
    "profiles"
   ]
  },
  {
   "cell_type": "code",
   "execution_count": 28,
   "metadata": {},
   "outputs": [],
   "source": [
    "def get_model_response(api_client, model, messages, temperature, top_p, frequency_penalty, max_tokens):\n",
    "    \"\"\"Get response from a model using the latest OpenAI API.\"\"\"\n",
    "    response = api_client.chat.completions.create(\n",
    "        model=model,\n",
    "        messages=messages\n",
    "    )\n",
    "    return response.choices[0].message.content.strip()"
   ]
  },
  {
   "cell_type": "code",
   "execution_count": 29,
   "metadata": {},
   "outputs": [],
   "source": [
    "def initiate_conversation(client_prompt, advisor_prompt, financial_goal, temperature=0.7, top_p=1.0, frequency_penalty=0.0, max_tokens=None):\n",
    "    \"\"\"Initiate a continuous conversation between client and advisor models.\"\"\"\n",
    "    conversation_id = str(uuid.uuid4())\n",
    "    conversation_dataset = []\n",
    "    sequence = 0\n",
    "\n",
    "    client_conversation = [{\"role\": \"system\", \"content\": client_prompt}]\n",
    "    advisor_conversation = [{\"role\": \"system\", \"content\": advisor_prompt}]\n",
    "\n",
    "    for _ in range(round(max_questions * 2.1)):\n",
    "        # Client response\n",
    "        client_response = get_model_response(client_api, \n",
    "                                             model=model_client, \n",
    "                                             messages=client_conversation, \n",
    "                                             temperature=temperature_client, \n",
    "                                             top_p=top_p_client,\n",
    "                                             frequency_penalty=frequency_penalty_client,\n",
    "                                             max_tokens=max_tokens_client)\n",
    "        print(\"client: \" + client_response)\n",
    "        \n",
    "        # Add the client response to the dataset BEFORE checking for [END]\n",
    "        conversation_dataset.append({\n",
    "            \"id_conversation\": conversation_id,\n",
    "            \"topic\": financial_goal,\n",
    "            \"sequence\": sequence,\n",
    "            \"input\": client_conversation[-1]['content'] if len(client_conversation) > 1 and client_conversation[-1]['role'] == 'user' else \"Start conversation\",\n",
    "            \"output\": client_response.replace(\"[END]\", \"\").strip()\n",
    "        })\n",
    "        \n",
    "        # Now check for [END] after adding to dataset\n",
    "        if \"[END]\" in client_response:\n",
    "            break\n",
    "            \n",
    "        client_conversation.append({\"role\": \"assistant\", \"content\": client_response})\n",
    "        advisor_conversation.append({\"role\": \"user\", \"content\": client_response})\n",
    "        sequence += 1\n",
    "\n",
    "        # Advisor response\n",
    "        advisor_response = get_model_response(advisor_api, \n",
    "                                              model=model_advisor, \n",
    "                                              messages=advisor_conversation, \n",
    "                                              temperature=temperature_advisor,\n",
    "                                              top_p=top_p_advisor,\n",
    "                                              frequency_penalty=frequency_penalty_advisor,\n",
    "                                              max_tokens=max_tokens_advisor)\n",
    "        print(\"advisor: \" + advisor_response)\n",
    "        \n",
    "        # Add the advisor response to the dataset BEFORE checking for [END]\n",
    "        conversation_dataset.append({\n",
    "            \"id_conversation\": conversation_id,\n",
    "            \"topic\": financial_goal,\n",
    "            \"sequence\": sequence,\n",
    "            \"input\": advisor_conversation[-1]['content'],\n",
    "            \"output\": advisor_response.replace(\"[END]\", \"\").strip()\n",
    "        })\n",
    "        \n",
    "        # Now check for [END] after adding to dataset\n",
    "        if \"[END]\" in advisor_response:\n",
    "            break\n",
    "            \n",
    "        advisor_conversation.append({\"role\": \"assistant\", \"content\": advisor_response})\n",
    "        client_conversation.append({\"role\": \"user\", \"content\": advisor_response})\n",
    "        sequence += 1\n",
    "    \n",
    "    return conversation_dataset"
   ]
  },
  {
   "cell_type": "code",
   "execution_count": 30,
   "metadata": {},
   "outputs": [],
   "source": [
    "def save_conversation(conversations, file_path):\n",
    "    \"\"\"Save the conversation dataset to a JSON file, creating directories if needed.\"\"\"\n",
    "    directory = os.path.dirname(file_path)\n",
    "    if directory:  # Check if there's a directory part in the file_path\n",
    "        os.makedirs(directory, exist_ok=True)\n",
    "    with open(file_path, 'w') as file:\n",
    "        json.dump(conversations, file, indent=4)"
   ]
  },
  {
   "cell_type": "code",
   "execution_count": 31,
   "metadata": {},
   "outputs": [],
   "source": [
    "initialize_apis()"
   ]
  },
  {
   "cell_type": "code",
   "execution_count": 32,
   "metadata": {},
   "outputs": [
    {
     "name": "stdout",
     "output_type": "stream",
     "text": [
      "---- \n",
      "\n",
      "You are an expert financial advisor specializing in save for house deposit.\n",
      "\n",
      "Client Context:\n",
      "- The client is approximately 30 years old, single, and appears to be a software developer from Spain.\n",
      "- The client's financial goal is to save for house deposit.\n",
      "\n",
      "Instructions for the conversation:\n",
      "- Start by greeting the client and asking relevant, natural questions to understand their financial situation, preferences, and concerns.\n",
      "- Guide the conversation by asking about their current financial products, investment experience, and risk tolerance.\n",
      "- Provide clear, concise, and professional advice tailored to the client's goal and profile as the information is revealed.\n",
      "- Avoid using complex financial jargon unless necessary, and adapt your language to the client's knowledge level (you'll assess this through conversation).\n",
      "- Focus on actionable recommendations to help the client achieve their goal.\n",
      "- Keep the conversation realistic and friendly.\n",
      "- End the conversation naturally once you believe the client's doubts have been resolved, or explicitly conclude by saying '[END]'\n"
     ]
    }
   ],
   "source": [
    "# Set up prompts for each profile\n",
    "prompts = []\n",
    "for profile in profiles:\n",
    "    client_prompt = render_prompt_from_path(template_client_prompt, profile, max_questions=max_questions)\n",
    "    advisor_prompt = render_prompt_from_path(template_advisor_prompt, profile)\n",
    "    \n",
    "    prompts.append({\n",
    "        'profile_id': profile['id'],\n",
    "        'client_prompt': client_prompt,\n",
    "        'advisor_prompt': advisor_prompt,\n",
    "        'financial_goal': profile['financial_goal']\n",
    "    })\n",
    "    print(\"---- \\n\" + advisor_prompt)"
   ]
  },
  {
   "cell_type": "code",
   "execution_count": 33,
   "metadata": {},
   "outputs": [
    {
     "name": "stdout",
     "output_type": "stream",
     "text": [
      "client: Hi there! I'm looking for some advice on saving and investing, especially as I plan for a house deposit.\n",
      "advisor: Hello! It's great to hear that you're planning for a house deposit. Saving for a home is an exciting goal! To get us started, I’d love to understand a bit more about your current financial situation.\n",
      "\n",
      "Could you tell me about your current savings? Do you have a specific amount in mind that you’re aiming for as a deposit? Also, have you thought about your timeline for purchasing a home?\n",
      "client: Sure! I currently have a savings account and some tech stocks. I’m aiming for around 20,000 euros for the deposit and would like to make the purchase in the next 3-5 years.\n",
      "advisor: Thanks for sharing that! Having a savings account and some investments in tech stocks gives you a good foundation. Since you're aiming for a €20,000 deposit in the next 3-5 years, let’s talk about how you can reach that goal.\n",
      "\n",
      "First, could you let me know how much you currently have saved? Also, what's your monthly savings contribution like—are you putting aside a certain amount each month? Lastly, how do you feel about taking risks with your investments? Would you prefer a safer approach, or are you open to some volatility with the potential for higher returns?\n",
      "client: I have about 7,000 euros saved right now, and I try to put aside around 500 euros each month. I'm definitely open to taking risks with my investments, especially since I have a high risk tolerance.\n",
      "advisor: That’s a solid start! With €7,000 already saved and contributing €500 monthly, you’re on the right track. Let’s break this down.\n",
      "\n",
      "**Your Current Situation:**\n",
      "\n",
      "- Current savings: €7,000\n",
      "- Monthly contributions: €500\n",
      "- Timeline: 3-5 years until you want to buy a house\n",
      "\n",
      "**Your Goal:**\n",
      "- Desired deposit: €20,000\n",
      "\n",
      "**Total Contribution Over 3-5 Years:** \n",
      "Assuming you continue saving €500 each month:\n",
      "- In 3 years: You’ll save an additional €18,000, totaling €25,000.\n",
      "- In 5 years: You’ll save an additional €30,000, totaling €37,000.\n",
      "\n",
      "Based on these figures, you’re well on your way to hitting your €20,000 target, comfortable sooner rather than later! \n",
      "\n",
      "**Investment Strategy:**\n",
      "Since you’re open to taking some risks, you might consider allocating a portion of your savings toward higher growth investments—maybe expanding your tech stocks or looking into a diversified index fund with a focus on growth sectors. This can help maximize your savings over the medium term.\n",
      "\n",
      "1. **Emergency Fund:** Make sure you maintain some liquidity for emergencies, ideally 3-6 months’ worth of expenses.\n",
      "   \n",
      "2. **Index Funds or ETFs:** With your risk tolerance, consider putting a portion of your savings into index funds or exchange-traded funds (ETFs) that focus on growth. They typically offer a good balance of risk and return.\n",
      "\n",
      "3. **Savings Account:** Keep part of your savings in a high-interest savings account for easy access to meet your short-term goals while still earning some interest.\n",
      "\n",
      "4. **Regular Contribution**: Continue those monthly contributions, as they’ll compound over time, helping you reach your goal faster.\n",
      "\n",
      "By combining different strategies, you can aim for a good balance between security and growth. How does that plan sound to you? Are there any concerns or areas you’d like to explore further?\n",
      "client: That sounds like a solid plan! I like the idea of putting some savings into index funds or ETFs for growth, while maintaining a good emergency fund. I’m curious about how to choose the right index funds or ETFs—are there specific ones you’d recommend? Also, how much of my savings should I consider putting into them?\n",
      "advisor: I'm glad you like the plan! Choosing the right index funds or ETFs can indeed make a significant difference in your savings journey. Here are some steps and considerations for selecting them:\n",
      "\n",
      "### Choosing Index Funds or ETFs:\n",
      "1. **Expense Ratio:** Look for funds with a low expense ratio. This is the annual fee charged by the fund. Lower fees mean more of your investment returns stay with you.\n",
      "\n",
      "2. **Track Record:** Although past performance doesn’t guarantee future results, checking the fund's performance history can provide insights. Look for funds that consistently track their index closely.\n",
      "\n",
      "3. **Diversification:** Choose funds that are diversified across various sectors. This helps spread risk. Funds focusing on large-cap companies (like the S&P 500) are often a good choice.\n",
      "\n",
      "4. **Size of the Fund:** Larger, well-established funds may offer more stability compared to smaller, lesser-known options.\n",
      "\n",
      "5. **Investment Strategy:** There are various strategies, such as growth, value, or total market. Choose a fund that aligns with your investment goals.\n",
      "\n",
      "### Recommended ETFs:\n",
      "Here are a couple of well-regarded ETFs that you might consider (though I recommend doing your research or consulting with a local financial advisor to find what suits you best):\n",
      "\n",
      "1. **Vanguard S&P 500 ETF (VOO):** This tracks the performance of the S&P 500 Index, representing large U.S. companies.\n",
      "\n",
      "2. **iShares MSCI World ETF (URTH):** This gives you exposure to large and mid-sized companies across 23 developed countries, providing global diversity.\n",
      "\n",
      "### How Much to Invest:\n",
      "Given that you have high risk tolerance but also want to maintain security, you could consider the following approach:\n",
      "\n",
      "- **Emergency Fund:** Keep about 6 months' worth of living expenses in your savings account. This is your safety net.\n",
      "\n",
      "- **Investment Portion:** After establishing your emergency fund, you might consider allocating 30-50% of your total savings into these growth investments, depending on your comfort level. For example, with your current savings of €7,000, if your emergency fund is around €3,000, you could consider investing between €1,500 to €2,500 initially and continue adding from your monthly savings contributions.\n",
      "\n",
      "How does this framework sound to you? Would you like to deep dive into any specific aspects of this investment strategy?\n",
      "client: This framework sounds great! I appreciate the detailed breakdown. I think I’d be comfortable starting with around 30% of my savings for investments, and I’ll definitely focus on the aspects you mentioned for selecting funds. \n",
      "\n",
      "One more thing—how often should I review my investment portfolio? Should I make adjustments based on market changes, or stick to a long-term strategy?\n",
      "advisor: I'm glad the framework resonates with you! Starting with about 30% of your savings for investments sounds like a solid plan, especially as you're focusing on growth.\n",
      "\n",
      "### Reviewing Your Investment Portfolio:\n",
      "When it comes to monitoring your investments, it’s essential to strike a balance between staying informed and avoiding knee-jerk reactions to market fluctuations. Here are some guidelines:\n",
      "\n",
      "1. **Regular Reviews:** Aim to review your portfolio at least semi-annually or annually. This gives you a chance to assess performance and ensure it aligns with your goals without getting caught up in daily market noise.\n",
      "\n",
      "2. **Market Changes:** While it's good to stay informed about significant market shifts or changes in the funds you hold, resist the urge to make frequent, radical changes based solely on short-term market events. A long-term strategy is generally far more effective in building wealth.\n",
      "\n",
      "3. **Rebalancing:** If one investment drastically outperforms and grows disproportionately compared to others (e.g., tech stocks rising sharply), consider rebalancing. You might sell some to maintain your desired asset allocation or risk level.\n",
      "\n",
      "4. **Life Changes:** Major life events (e.g., changes in income, job, relationship status) may prompt a reevaluation of your investment goals or risk tolerance. Keep your financial life dynamic in your strategy.\n",
      "\n",
      "5. **Stay Updated:** Keep an eye on the economic environment and changes in interest rates, as they might affect your decisions. \n",
      "\n",
      "By following a structured review process, you can stay aligned with your long-term goals while still being adaptable when necessary. \n",
      "\n",
      "Does that help clarify your approach? Any other questions or concerns you’d like to discuss before we wrap up?\n",
      "client: Yes, that really clarifies my approach! I appreciate the tips on when to review and how to manage my portfolio. I feel more confident moving forward with this strategy. \n",
      "\n",
      "I don't have any more questions for now, but thank you for your guidance! It’s been really helpful. [END]\n",
      "Conversation length: 11\n"
     ]
    }
   ],
   "source": [
    "conversations = []\n",
    "for prompt in prompts:\n",
    "    conversation = initiate_conversation(prompt['client_prompt'], prompt['advisor_prompt'], prompt['financial_goal'])\n",
    "    conversations.extend(conversation)\n",
    "\n",
    "print(f\"Conversation length: {len(conversation)}\")"
   ]
  },
  {
   "cell_type": "code",
   "execution_count": 34,
   "metadata": {},
   "outputs": [
    {
     "name": "stdout",
     "output_type": "stream",
     "text": [
      "Conversations have been saved to 'conversations_dataset.json'.\n"
     ]
    }
   ],
   "source": [
    "save_conversation(conversations, file_output)\n",
    "print(\"Conversations have been saved to 'conversations_dataset.json'.\")"
   ]
  },
  {
   "cell_type": "code",
   "execution_count": null,
   "metadata": {},
   "outputs": [],
   "source": []
  }
 ],
 "metadata": {
  "kernelspec": {
   "display_name": ".venv",
   "language": "python",
   "name": "python3"
  },
  "language_info": {
   "codemirror_mode": {
    "name": "ipython",
    "version": 3
   },
   "file_extension": ".py",
   "mimetype": "text/x-python",
   "name": "python",
   "nbconvert_exporter": "python",
   "pygments_lexer": "ipython3",
   "version": "3.12.3"
  }
 },
 "nbformat": 4,
 "nbformat_minor": 2
}
